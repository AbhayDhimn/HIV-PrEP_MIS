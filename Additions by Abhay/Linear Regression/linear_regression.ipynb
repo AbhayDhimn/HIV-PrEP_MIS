{
 "cells": [
  {
   "cell_type": "markdown",
   "metadata": {},
   "source": [
    "## Welcome to the Linear_Regression notebook\n",
    "\n",
    "Goals of this notebook:\n",
    "* Use Pandas and Scikit-Learn to train a Linear Regression Model on PrEP users(per NJ county per year), to estimate prep users up until 2030 (11 years into the future)"
   ]
  },
  {
   "cell_type": "markdown",
   "metadata": {},
   "source": [
    "## Import Necessary Libraries"
   ]
  },
  {
   "cell_type": "code",
   "execution_count": 317,
   "metadata": {},
   "outputs": [],
   "source": [
    "import pandas as pd\n",
    "import matplotlib.pyplot as plt\n",
    "\n",
    "from sklearn.model_selection import train_test_split\n",
    "from sklearn.preprocessing import StandardScaler\n",
    "\n",
    "from sklearn.linear_model import LinearRegression\n",
    "from sklearn.pipeline import Pipeline\n"
   ]
  },
  {
   "cell_type": "markdown",
   "metadata": {},
   "source": [
    "## Load in the Dataset"
   ]
  },
  {
   "cell_type": "code",
   "execution_count": null,
   "metadata": {},
   "outputs": [
    {
     "name": "stdout",
     "output_type": "stream",
     "text": [
      "Index(['GEO ID', 'County', 'State', 'Year', 'County PrEP Users',\n",
      "       'HIV New Incidences', 'Census Population Estimates',\n",
      "       'Median Household Income', 'Unemployment Rate', 'PnR', 'Unnamed: 10',\n",
      "       'Unnamed: 11', 'Unnamed: 12', 'Unnamed: 13', 'Unnamed: 14',\n",
      "       'Unnamed: 15', 'Unnamed: 16', 'Unnamed: 17', 'Unnamed: 18',\n",
      "       'Unnamed: 19', 'Unnamed: 20', 'Unnamed: 21', 'Unnamed: 22',\n",
      "       'Unnamed: 23', 'Unnamed: 24', 'Unnamed: 25'],\n",
      "      dtype='object')\n",
      "Index(['GEO ID', 'County', 'State', 'Year', 'County PrEP Users',\n",
      "       'HIV New Incidences', 'Census Population Estimates',\n",
      "       'Median Household Income', 'Unemployment Rate', 'PnR'],\n",
      "      dtype='object')\n"
     ]
    },
    {
     "data": {
      "text/html": [
       "<div>\n",
       "<style scoped>\n",
       "    .dataframe tbody tr th:only-of-type {\n",
       "        vertical-align: middle;\n",
       "    }\n",
       "\n",
       "    .dataframe tbody tr th {\n",
       "        vertical-align: top;\n",
       "    }\n",
       "\n",
       "    .dataframe thead th {\n",
       "        text-align: right;\n",
       "    }\n",
       "</style>\n",
       "<table border=\"1\" class=\"dataframe\">\n",
       "  <thead>\n",
       "    <tr style=\"text-align: right;\">\n",
       "      <th></th>\n",
       "      <th>GEO ID</th>\n",
       "      <th>County</th>\n",
       "      <th>Year</th>\n",
       "      <th>County PrEP Users</th>\n",
       "      <th>HIV New Incidences</th>\n",
       "      <th>Census Population Estimates</th>\n",
       "      <th>Median Household Income</th>\n",
       "      <th>Unemployment Rate</th>\n",
       "      <th>PnR</th>\n",
       "      <th>Year_Income_Interaction</th>\n",
       "      <th>Year_Unemployment_Interaction</th>\n",
       "      <th>HIV_Incidences_Pop_Interaction</th>\n",
       "    </tr>\n",
       "  </thead>\n",
       "  <tbody>\n",
       "    <tr>\n",
       "      <th>0</th>\n",
       "      <td>34001</td>\n",
       "      <td>Atlantic County</td>\n",
       "      <td>2012</td>\n",
       "      <td>14</td>\n",
       "      <td>56.0</td>\n",
       "      <td>274657</td>\n",
       "      <td>50881</td>\n",
       "      <td>12.8</td>\n",
       "      <td>0.250000</td>\n",
       "      <td>102372572</td>\n",
       "      <td>25753.6</td>\n",
       "      <td>15380792.0</td>\n",
       "    </tr>\n",
       "    <tr>\n",
       "      <th>1</th>\n",
       "      <td>34003</td>\n",
       "      <td>Bergen County</td>\n",
       "      <td>2012</td>\n",
       "      <td>34</td>\n",
       "      <td>63.0</td>\n",
       "      <td>916299</td>\n",
       "      <td>82001</td>\n",
       "      <td>7.7</td>\n",
       "      <td>0.539683</td>\n",
       "      <td>164986012</td>\n",
       "      <td>15492.4</td>\n",
       "      <td>57726837.0</td>\n",
       "    </tr>\n",
       "    <tr>\n",
       "      <th>2</th>\n",
       "      <td>34005</td>\n",
       "      <td>Burlington County</td>\n",
       "      <td>2012</td>\n",
       "      <td>18</td>\n",
       "      <td>45.0</td>\n",
       "      <td>450667</td>\n",
       "      <td>74285</td>\n",
       "      <td>8.7</td>\n",
       "      <td>0.400000</td>\n",
       "      <td>149461420</td>\n",
       "      <td>17504.4</td>\n",
       "      <td>20280015.0</td>\n",
       "    </tr>\n",
       "    <tr>\n",
       "      <th>3</th>\n",
       "      <td>34007</td>\n",
       "      <td>Camden County</td>\n",
       "      <td>2012</td>\n",
       "      <td>30</td>\n",
       "      <td>67.0</td>\n",
       "      <td>511636</td>\n",
       "      <td>58572</td>\n",
       "      <td>10.8</td>\n",
       "      <td>0.447761</td>\n",
       "      <td>117846864</td>\n",
       "      <td>21729.6</td>\n",
       "      <td>34279612.0</td>\n",
       "    </tr>\n",
       "    <tr>\n",
       "      <th>4</th>\n",
       "      <td>34009</td>\n",
       "      <td>Cape May County</td>\n",
       "      <td>2012</td>\n",
       "      <td>5</td>\n",
       "      <td>10.0</td>\n",
       "      <td>96267</td>\n",
       "      <td>55175</td>\n",
       "      <td>15.5</td>\n",
       "      <td>0.500000</td>\n",
       "      <td>111012100</td>\n",
       "      <td>31186.0</td>\n",
       "      <td>962670.0</td>\n",
       "    </tr>\n",
       "  </tbody>\n",
       "</table>\n",
       "</div>"
      ],
      "text/plain": [
       "   GEO ID             County  Year  County PrEP Users  HIV New Incidences  \\\n",
       "0   34001    Atlantic County  2012                 14                56.0   \n",
       "1   34003      Bergen County  2012                 34                63.0   \n",
       "2   34005  Burlington County  2012                 18                45.0   \n",
       "3   34007      Camden County  2012                 30                67.0   \n",
       "4   34009    Cape May County  2012                  5                10.0   \n",
       "\n",
       "   Census Population Estimates  Median Household Income  Unemployment Rate  \\\n",
       "0                       274657                    50881               12.8   \n",
       "1                       916299                    82001                7.7   \n",
       "2                       450667                    74285                8.7   \n",
       "3                       511636                    58572               10.8   \n",
       "4                        96267                    55175               15.5   \n",
       "\n",
       "        PnR  Year_Income_Interaction  Year_Unemployment_Interaction  \\\n",
       "0  0.250000                102372572                        25753.6   \n",
       "1  0.539683                164986012                        15492.4   \n",
       "2  0.400000                149461420                        17504.4   \n",
       "3  0.447761                117846864                        21729.6   \n",
       "4  0.500000                111012100                        31186.0   \n",
       "\n",
       "   HIV_Incidences_Pop_Interaction  \n",
       "0                      15380792.0  \n",
       "1                      57726837.0  \n",
       "2                      20280015.0  \n",
       "3                      34279612.0  \n",
       "4                        962670.0  "
      ]
     },
     "execution_count": 318,
     "metadata": {},
     "output_type": "execute_result"
    }
   ],
   "source": [
    "# Primary key = GEOID, year\n",
    "\n",
    "pp = pd.read_csv('MIS_data.csv')\n",
    "\n",
    "print(pp.columns)\n",
    "\n",
    "#remove the empty columns (which exist due to A-Z naming of columns)\n",
    "pp = pp[['GEO ID', 'County', 'State', 'Year', 'County PrEP Users',\n",
    "       'HIV New Incidences', 'Census Population Estimates',\n",
    "       'Median Household Income', 'Unemployment Rate', 'PnR']]\n",
    "\n",
    "print(pp.columns)\n",
    "\n",
    "pp = pp.drop('State', axis=1) #state is always NJ, hence is useless info\n",
    "\n",
    "#attempt to feature engineer with the creation of interaction terms\n",
    "#pp['Year_Income_Interaction'] = pp['Year'] * pp['Median Household Income']\n",
    "#pp['Year_Unemployment_Interaction'] = pp['Year'] * pp['Unemployment Rate']\n",
    "#pp['HIV_Incidences_Pop_Interaction'] = pp['HIV New Incidences'] * pp['Census Population Estimates']\n",
    "\n",
    "pp.groupby(['GEO ID', 'Year'])\n",
    "\n",
    "pp.head()\n",
    "\n",
    "#pp.head()\n",
    "\n",
    "#pp_PrEP = pp[['GEO ID', 'Year', 'County PrEP Users']]\n",
    "#pp_PrEP.groupby(['Year', 'GEO ID', 'County PrEP Users'])['County PrEP Users']\n",
    "#pp_PrEP.head()\n",
    "\n",
    "\n",
    "#pp_PrEP.plot(kind='line')"
   ]
  },
  {
   "cell_type": "code",
   "execution_count": 319,
   "metadata": {},
   "outputs": [
    {
     "name": "stdout",
     "output_type": "stream",
     "text": [
      "0.3159399717382585\n"
     ]
    }
   ],
   "source": [
    "# Linear Regression here we go!\n",
    "# Original accuracy: 0.3159399717382585\n",
    "\n",
    "from sklearn.metrics import f1_score\n",
    "\n",
    "pp_input_vars = pp.copy()\n",
    "pp_input_vars = pp_input_vars.drop('County PrEP Users', axis=1)\n",
    "\n",
    "# train test split\n",
    "X_train, X_test, y_train, y_test = train_test_split(pp_input_vars[['GEO ID', 'Year']], pp['County PrEP Users'], random_state = 0)\n",
    "\n",
    "pipe = Pipeline([('Scaler', StandardScaler()),\n",
    "                 ('Linear', LinearRegression())])\n",
    "\n",
    "pipe.fit(X_train, y_train)\n",
    "\n",
    "# Get Model Performance\n",
    "print(pipe.score(X_test, y_test))\n",
    "\n"
   ]
  },
  {
   "cell_type": "markdown",
   "metadata": {},
   "source": [
    "## Predicting PrEP users for 2020-2030\n",
    "\n",
    "Inclusive, hence 11 years"
   ]
  },
  {
   "cell_type": "code",
   "execution_count": 320,
   "metadata": {},
   "outputs": [
    {
     "name": "stdout",
     "output_type": "stream",
     "text": [
      "[345.83811877 386.03110967 426.22410058 466.41709148 506.61008239\n",
      " 546.80307329 586.99606419 627.1890551  667.382046   707.5750369\n",
      " 747.76802781 341.92874712 382.12173803 422.31472893 462.50771983\n",
      " 502.70071074 542.89370164 583.08669254 623.27968345 663.47267435\n",
      " 703.66566525 743.85865616 338.01937548 378.21236638 418.40535728\n",
      " 458.59834819 498.79133909 538.98432999 579.1773209  619.3703118\n",
      " 659.5633027  699.75629361 739.94928451 334.11000383 374.30299473\n",
      " 414.49598563 454.68897654 494.88196744 535.07495835 575.26794925\n",
      " 615.46094015 655.65393106 695.84692196 736.03991286 330.20063218\n",
      " 370.39362308 410.58661399 450.77960489 490.97259579 531.1655867\n",
      " 571.3585776  611.5515685  651.74455941 691.93755031 732.13054121\n",
      " 326.29126053 366.48425144 406.67724234 446.87023324 487.06322415\n",
      " 527.25621505 567.44920595 607.64219686 647.83518776 688.02817866\n",
      " 728.22116957 322.38188888 362.57487979 402.76787069 442.9608616\n",
      " 483.1538525  523.3468434  563.53983431 603.73282521 643.92581611\n",
      " 684.11880702 724.31179792 318.47251724 358.66550814 398.85849904\n",
      " 439.05148995 479.24448085 519.43747175 559.63046266 599.82345356\n",
      " 640.01644446 680.20943537 720.40242627 314.56314559 354.75613649\n",
      " 394.9491274  435.1421183  475.3351092  515.52810011 555.72109101\n",
      " 595.91408191 636.10707282 676.30006372 716.49305462 310.65377394\n",
      " 350.84676484 391.03975575 431.23274665 471.42573756 511.61872846\n",
      " 551.81171936 592.00471027 632.19770117 672.39069207 712.58368298\n",
      " 306.74440229 346.9373932  387.1303841  427.323375   467.51636591\n",
      " 507.70935681 547.90234771 588.09533862 628.28832952 668.48132042\n",
      " 708.67431133 302.83503065 343.02802155 383.22101245 423.41400336\n",
      " 463.60699426 503.79998516 543.99297607 584.18596697 624.37895787\n",
      " 664.57194878 704.76493968 298.925659   339.1186499  379.31164081\n",
      " 419.50463171 459.69762261 499.89061352 540.08360442 580.27659532\n",
      " 620.46958623 660.66257713 700.85556803 295.01628735 335.20927825\n",
      " 375.40226916 415.59526006 455.78825096 495.98124187 536.17423277\n",
      " 576.36722367 616.56021458 656.75320548 696.94619638 291.1069157\n",
      " 331.29990661 371.49289751 411.68588841 451.87887932 492.07187022\n",
      " 532.26486112 572.45785203 612.65084293 652.84383383 693.03682474\n",
      " 287.19754405 327.39053496 367.58352586 407.77651677 447.96950767\n",
      " 488.16249857 528.35548948 568.54848038 608.74147128 648.93446219\n",
      " 689.12745309 283.28817241 323.48116331 363.67415421 403.86714512\n",
      " 444.06013602 484.25312692 524.44611783 564.63910873 604.83209963\n",
      " 645.02509054 685.21808144 279.37880076 319.57179166 359.76478257\n",
      " 399.95777347 440.15076437 480.34375528 520.53674618 560.72973708\n",
      " 600.92272799 641.11571889 681.30870979 275.46942911 315.66242002\n",
      " 355.85541092 396.04840182 436.24139273 476.43438363 516.62737453\n",
      " 556.82036544 597.01335634 637.20634724 677.39933815 271.56005746\n",
      " 311.75304837 351.94603927 392.13903017 432.33202108 472.52501198\n",
      " 512.71800288 552.91099379 593.10398469 633.29697559 673.4899665\n",
      " 267.65068582 307.84367672 348.03666762 388.22965853 428.42264943\n",
      " 468.61564033 508.80863124 549.00162214 589.19461304 629.38760395\n",
      " 669.58059485]\n"
     ]
    }
   ],
   "source": [
    "# Predicting the future! Oooooooh! 👻🔮\n",
    "\n",
    "GEO_IDs = pp['GEO ID'].unique() # list of unique GEO_IDs (21 total for 21 NJ counties)\n",
    "\n",
    "future_years = pd.DataFrame([\n",
    "    {\"GEO ID\": geo_id, \"Year\": year}\n",
    "    for geo_id in GEO_IDs\n",
    "    for year in range(2020, 2031)\n",
    "])\n",
    "\n",
    "future_years\n",
    "\n",
    "future_predictions = pipe.predict(future_years)\n",
    "print(future_predictions)\n"
   ]
  },
  {
   "cell_type": "markdown",
   "metadata": {},
   "source": [
    "## Visualize the Data and Predictions\n",
    "\n",
    "Scatter plot"
   ]
  },
  {
   "cell_type": "code",
   "execution_count": 321,
   "metadata": {},
   "outputs": [
    {
     "data": {
      "image/png": "[encoded data removed]",
      "text/plain": [
       "<Figure size 640x480 with 1 Axes>"
      ]
     },
     "metadata": {},
     "output_type": "display_data"
    }
   ],
   "source": [
    "# Visualize the Data and Predictions\n",
    "\n",
    "# Actual data\n",
    "plt.scatter(pp['Year'], pp['County PrEP Users'], color='blue', label='Actual Data', alpha=0.7)\n",
    "\n",
    "# Model's predictions\n",
    "plt.scatter(future_years['Year'], future_predictions, color='red', label='Predicted Data', alpha=0.7)\n",
    "\n",
    "# Formatting, so we know what is what\n",
    "plt.xlabel('Year')\n",
    "plt.ylabel('County PrEP Users')\n",
    "plt.title('County PrEP Users Over Time')\n",
    "plt.legend(loc = 'lower right')\n",
    "\n",
    "# Show the plot\n",
    "plt.grid(True)\n",
    "plt.tight_layout() #spreads it out, making it easier to see\n",
    "plt.show()"
   ]
  }
 ],
 "metadata": {
  "kernelspec": {
   "display_name": "Python 3",
   "language": "python",
   "name": "python3"
  },
  "language_info": {
   "codemirror_mode": {
    "name": "ipython",
    "version": 3
   },
   "file_extension": ".py",
   "mimetype": "text/x-python",
   "name": "python",
   "nbconvert_exporter": "python",
   "pygments_lexer": "ipython3",
   "version": "3.13.0"
  }
 },
 "nbformat": 4,
 "nbformat_minor": 2
}
