{
 "cells": [
  {
   "cell_type": "markdown",
   "metadata": {},
   "source": [
    "## Welcome to the Linear_Regression notebook\n",
    "\n",
    "Goals of this notebook:\n",
    "* Use Pandas and Scikit-Learn to train a Linear Regression Model on PrEP users(per NJ county per year), to estimate prep users up until 2030 (11 years into the future)"
   ]
  },
  {
   "cell_type": "markdown",
   "metadata": {},
   "source": [
    "## Import Necessary Libraries"
   ]
  },
  {
   "cell_type": "code",
   "execution_count": 69,
   "metadata": {},
   "outputs": [],
   "source": [
    "import pandas as pd\n",
    "import matplotlib.pyplot as plt\n",
    "\n",
    "from sklearn.model_selection import train_test_split\n",
    "from sklearn.preprocessing import StandardScaler\n",
    "\n",
    "from sklearn.linear_model import LinearRegression\n",
    "from sklearn.pipeline import Pipeline\n"
   ]
  },
  {
   "cell_type": "markdown",
   "metadata": {},
   "source": [
    "## Load in the Dataset"
   ]
  },
  {
   "cell_type": "code",
   "execution_count": 70,
   "metadata": {},
   "outputs": [
    {
     "name": "stdout",
     "output_type": "stream",
     "text": [
      "Index(['GEO ID', 'County', 'State', 'Year', 'County PrEP Users',\n",
      "       'HIV New Incidences', 'Census Population Estimates',\n",
      "       'Median Household Income', 'Unemployment Rate', 'PnR', 'Unnamed: 10',\n",
      "       'Unnamed: 11', 'Unnamed: 12', 'Unnamed: 13', 'Unnamed: 14',\n",
      "       'Unnamed: 15', 'Unnamed: 16', 'Unnamed: 17', 'Unnamed: 18',\n",
      "       'Unnamed: 19', 'Unnamed: 20', 'Unnamed: 21', 'Unnamed: 22',\n",
      "       'Unnamed: 23', 'Unnamed: 24', 'Unnamed: 25'],\n",
      "      dtype='object')\n",
      "Index(['GEO ID', 'County', 'State', 'Year', 'County PrEP Users',\n",
      "       'HIV New Incidences', 'Census Population Estimates',\n",
      "       'Median Household Income', 'Unemployment Rate', 'PnR'],\n",
      "      dtype='object')\n"
     ]
    },
    {
     "data": {
      "text/html": [
       "<div>\n",
       "<style scoped>\n",
       "    .dataframe tbody tr th:only-of-type {\n",
       "        vertical-align: middle;\n",
       "    }\n",
       "\n",
       "    .dataframe tbody tr th {\n",
       "        vertical-align: top;\n",
       "    }\n",
       "\n",
       "    .dataframe thead th {\n",
       "        text-align: right;\n",
       "    }\n",
       "</style>\n",
       "<table border=\"1\" class=\"dataframe\">\n",
       "  <thead>\n",
       "    <tr style=\"text-align: right;\">\n",
       "      <th></th>\n",
       "      <th>GEO ID</th>\n",
       "      <th>Year</th>\n",
       "      <th>County PrEP Users</th>\n",
       "    </tr>\n",
       "  </thead>\n",
       "  <tbody>\n",
       "    <tr>\n",
       "      <th>0</th>\n",
       "      <td>34001</td>\n",
       "      <td>2012</td>\n",
       "      <td>14</td>\n",
       "    </tr>\n",
       "    <tr>\n",
       "      <th>1</th>\n",
       "      <td>34003</td>\n",
       "      <td>2012</td>\n",
       "      <td>34</td>\n",
       "    </tr>\n",
       "    <tr>\n",
       "      <th>2</th>\n",
       "      <td>34005</td>\n",
       "      <td>2012</td>\n",
       "      <td>18</td>\n",
       "    </tr>\n",
       "    <tr>\n",
       "      <th>3</th>\n",
       "      <td>34007</td>\n",
       "      <td>2012</td>\n",
       "      <td>30</td>\n",
       "    </tr>\n",
       "    <tr>\n",
       "      <th>4</th>\n",
       "      <td>34009</td>\n",
       "      <td>2012</td>\n",
       "      <td>5</td>\n",
       "    </tr>\n",
       "  </tbody>\n",
       "</table>\n",
       "</div>"
      ],
      "text/plain": [
       "   GEO ID  Year  County PrEP Users\n",
       "0   34001  2012                 14\n",
       "1   34003  2012                 34\n",
       "2   34005  2012                 18\n",
       "3   34007  2012                 30\n",
       "4   34009  2012                  5"
      ]
     },
     "execution_count": 70,
     "metadata": {},
     "output_type": "execute_result"
    }
   ],
   "source": [
    "# Primary key = GEOID, year\n",
    "\n",
    "pp = pd.read_csv('MIS_data.csv')\n",
    "\n",
    "print(pp.columns)\n",
    "\n",
    "#remove the empty columns (which exist due to A-Z naming of columns)\n",
    "pp = pp[['GEO ID', 'County', 'State', 'Year', 'County PrEP Users',\n",
    "       'HIV New Incidences', 'Census Population Estimates',\n",
    "       'Median Household Income', 'Unemployment Rate', 'PnR']]\n",
    "\n",
    "print(pp.columns)\n",
    "\n",
    "#pp.head()\n",
    "\n",
    "pp_PrEP = pp[['GEO ID', 'Year', 'County PrEP Users']]\n",
    "\n",
    "pp_PrEP.groupby(['Year', 'GEO ID', 'County PrEP Users'])['County PrEP Users']\n",
    "pp_PrEP.head()\n",
    "\n",
    "\n",
    "#pp_PrEP.plot(kind='line')"
   ]
  }
 ],
 "metadata": {
  "kernelspec": {
   "display_name": "Python 3",
   "language": "python",
   "name": "python3"
  },
  "language_info": {
   "codemirror_mode": {
    "name": "ipython",
    "version": 3
   },
   "file_extension": ".py",
   "mimetype": "text/x-python",
   "name": "python",
   "nbconvert_exporter": "python",
   "pygments_lexer": "ipython3",
   "version": "3.13.0"
  }
 },
 "nbformat": 4,
 "nbformat_minor": 2
}
